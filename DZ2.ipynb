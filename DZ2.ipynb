{
 "cells": [
  {
   "metadata": {},
   "cell_type": "markdown",
   "source": [
    "Логистическая регрессия\n",
    "Обучим логистическую регрессию для предсказания того, откликнется клиент\n",
    "на рекламное предложение (target = 1) или нет (target = 0).\n",
    "\n",
    "Подключение библиотек, загрузка и обзор данных"
   ],
   "id": "d94ee62bb594b6c9"
  },
  {
   "metadata": {
    "ExecuteTime": {
     "end_time": "2025-04-27T22:02:53.091698Z",
     "start_time": "2025-04-27T22:02:52.731251Z"
    }
   },
   "cell_type": "code",
   "source": [
    "import matplotlib.pyplot as plt\n",
    "import pandas as pd\n",
    "import warnings\n",
    "warnings.filterwarnings('ignore')\n",
    "\n",
    "data = pd.read_csv('https://raw.githubusercontent.com/evgpat/edu_stepik_practical_ml/main/datasets/clients_data.csv')\n",
    "print(data.head())\n",
    "\n",
    "# Разделяем модель selection\n",
    "from sklearn.model_selection import train_test_split\n",
    "\n",
    "X = data.drop(['TARGET'], axis=1)\n",
    "y = data['TARGET']\n",
    "\n",
    "Xtrain, Xtest, ytrain, ytest = train_test_split(X, y, train_size=0.7, random_state=123)"
   ],
   "id": "c595bba39b2df704",
   "outputs": [
    {
     "name": "stdout",
     "output_type": "stream",
     "text": [
      "   AGE  SOCSTATUS_WORK_FL  SOCSTATUS_PENS_FL  GENDER  CHILD_TOTAL  DEPENDANTS  \\\n",
      "0   49                  1                  0       1            2           1   \n",
      "1   32                  1                  0       1            3           3   \n",
      "2   52                  1                  0       1            4           0   \n",
      "3   39                  1                  0       1            1           1   \n",
      "4   30                  1                  0       0            0           0   \n",
      "\n",
      "   PERSONAL_INCOME  LOAN_NUM_TOTAL  LOAN_NUM_CLOSED  LOAN_DLQ_NUM  TARGET  \n",
      "0           5000.0               1                1             2       0  \n",
      "1          12000.0               1                1             1       0  \n",
      "2           9000.0               2                1             0       0  \n",
      "3          25000.0               1                1             3       0  \n",
      "4          12000.0               2                1             2       0  \n"
     ]
    }
   ],
   "execution_count": 3
  },
  {
   "metadata": {},
   "cell_type": "markdown",
   "source": [
    "Практика\n",
    "Задание\n",
    "\n",
    "Выведите на экран количество объектов каждого класса. Сколько процентов объектов относятся к положительному классу?\n",
    "Ответ округлите до целого числа (например, если доля объектов положительного класса равна 0.412, в ответ запишите 41,\n",
    "имея в виду 41 процент).\n"
   ],
   "id": "daa4d7c9cbce0449"
  },
  {
   "metadata": {
    "ExecuteTime": {
     "end_time": "2025-04-27T22:14:58.763065Z",
     "start_time": "2025-04-27T22:14:58.757942Z"
    }
   },
   "cell_type": "code",
   "source": [
    "# Подсчёт количества объектов каждого класса\n",
    "class_counts = pd.Series(ytrain).value_counts()\n",
    "class_counts1 = pd.Series(ytest).value_counts()\n",
    "print(\"Количество объектов класса 0 (отрицательный):\", class_counts[0] + class_counts1[0])\n",
    "print(\"Количество объектов класса 1 (положительный):\", class_counts[1] + class_counts1[1])"
   ],
   "id": "64757557b5a700eb",
   "outputs": [
    {
     "name": "stdout",
     "output_type": "stream",
     "text": [
      "Количество объектов класса 0 (отрицательный): 13411\n",
      "Количество объектов класса 1 (положительный): 1812\n"
     ]
    }
   ],
   "execution_count": 19
  },
  {
   "metadata": {},
   "cell_type": "markdown",
   "source": "Обучим логистическую регрессию с параметрами по умолчанию.",
   "id": "4fb5f455b5687c0"
  },
  {
   "metadata": {
    "ExecuteTime": {
     "end_time": "2025-04-27T22:20:16.924668Z",
     "start_time": "2025-04-27T22:20:16.516270Z"
    }
   },
   "cell_type": "code",
   "source": [
    "from sklearn.linear_model import LogisticRegression\n",
    "from sklearn.preprocessing import StandardScaler\n",
    "\n",
    "# Масштабируем данные\n",
    "scaler = StandardScaler()\n",
    "Xtrain_scaled = scaler.fit_transform(Xtrain)\n",
    "Xtest_scaled = scaler.transform(Xtest)\n",
    "\n",
    "lr = LogisticRegression(random_state=42, max_iter=1000)\n",
    "\n",
    "lr.fit(Xtrain, ytrain)\n",
    "\n",
    "prediction = lr.predict(Xtest)\n",
    "prediction"
   ],
   "id": "9ce5fe357d031d69",
   "outputs": [
    {
     "data": {
      "text/plain": [
       "array([0, 0, 0, ..., 0, 0, 0], shape=(4567,))"
      ]
     },
     "execution_count": 25,
     "metadata": {},
     "output_type": "execute_result"
    }
   ],
   "execution_count": 25
  },
  {
   "metadata": {},
   "cell_type": "markdown",
   "source": [
    "Метрику accuracy не стоит использовать при сильном дисбалансе классов. Поэтому посчитайте f1_score для оценки качества модели на тестовых данных.\n",
    "\n",
    "f1_score принимает значения от 0 до 1. Чем ближе к 1, тем лучше модель."
   ],
   "id": "4592aa81e27f7bcc"
  },
  {
   "metadata": {
    "ExecuteTime": {
     "end_time": "2025-04-27T22:19:50.305710Z",
     "start_time": "2025-04-27T22:19:50.303215Z"
    }
   },
   "cell_type": "code",
   "source": [
    "from sklearn.metrics import f1_score\n",
    "\n",
    "# ваш код здесь"
   ],
   "id": "704989ea6e8cb1f",
   "outputs": [],
   "execution_count": 23
  },
  {
   "metadata": {
    "ExecuteTime": {
     "end_time": "2025-04-27T22:25:59.242184Z",
     "start_time": "2025-04-27T22:25:59.236182Z"
    }
   },
   "cell_type": "code",
   "source": [
    "f1 = f1_score(ytest, prediction)\n",
    "print(\"f1_score модели:\", f1)\n",
    "\n",
    "# Получаем вероятности для тестовых данных\n",
    "probs_test = lr.predict_proba(Xtest_scaled)[:, 1]  # Вероятности класса 1\n",
    "probs_test"
   ],
   "id": "e61d87b36a87a190",
   "outputs": [
    {
     "name": "stdout",
     "output_type": "stream",
     "text": [
      "f1_score модели: 0.0\n"
     ]
    },
    {
     "data": {
      "text/plain": [
       "array([0.16834787, 0.22328888, 0.46617787, ..., 0.25068258, 0.31759597,\n",
       "       0.27000442], shape=(4567,))"
      ]
     },
     "execution_count": 37,
     "metadata": {},
     "output_type": "execute_result"
    }
   ],
   "execution_count": 37
  },
  {
   "metadata": {},
   "cell_type": "markdown",
   "source": [
    "Вопрос\n",
    "Чему равен f1_score?\n",
    "\n",
    "---\n",
    "\n",
    "Удивительно, да?\n",
    "\n",
    "Давайте разберемся, почему качество такое низкое.\n",
    "\n",
    "Предскажем вероятности классов с помощью обученной логистической регрессии на тестовых данных."
   ],
   "id": "291d8d3a1403307b"
  },
  {
   "metadata": {
    "ExecuteTime": {
     "end_time": "2025-04-27T22:21:32.726715Z",
     "start_time": "2025-04-27T22:21:32.721843Z"
    }
   },
   "cell_type": "code",
   "source": [
    "probs_test = lr.predict_proba(Xtest)\n",
    "\n",
    "probs_test[:10]\n"
   ],
   "id": "79468e0cc21f5f82",
   "outputs": [
    {
     "data": {
      "text/plain": [
       "array([[0.93059542, 0.06940458],\n",
       "       [0.90718483, 0.09281517],\n",
       "       [0.72665238, 0.27334762],\n",
       "       [0.85108245, 0.14891755],\n",
       "       [0.85995014, 0.14004986],\n",
       "       [0.92562877, 0.07437123],\n",
       "       [0.90219118, 0.09780882],\n",
       "       [0.97635873, 0.02364127],\n",
       "       [0.94283674, 0.05716326],\n",
       "       [0.89995088, 0.10004912]])"
      ]
     },
     "execution_count": 26,
     "metadata": {},
     "output_type": "execute_result"
    }
   ],
   "execution_count": 26
  },
  {
   "metadata": {},
   "cell_type": "markdown",
   "source": [
    "По вероятностям видно, что вероятности отнесения к положительному классу очень низкие.\n",
    "\n",
    "Попробуем изменить порог для перевода вероятности в классы.\n",
    "\n",
    "Вопрос\n",
    "Чему равен f1_score, если все объекты с вероятностью не меньшей 0.1, относить к положительному классу?\n",
    "\n",
    "Ответ округлите до сотых."
   ],
   "id": "c736e907c302fd35"
  },
  {
   "metadata": {
    "ExecuteTime": {
     "end_time": "2025-04-27T22:28:04.222255Z",
     "start_time": "2025-04-27T22:28:04.218439Z"
    }
   },
   "cell_type": "code",
   "source": [
    "# Применяем порог 0.1\n",
    "new_predictions = (probs_test >= 0.1).astype(int)\n",
    "\n",
    "# Считаем f1_score с новым порогом\n",
    "f1_new = f1_score(ytest, new_predictions)\n",
    "print(\"f1_score с порогом 0.1:\", round(f1_new, 2))"
   ],
   "id": "fd9beb767abc8d93",
   "outputs": [
    {
     "name": "stdout",
     "output_type": "stream",
     "text": [
      "f1_score с порогом 0.1: 0.23\n"
     ]
    }
   ],
   "execution_count": 38
  },
  {
   "metadata": {},
   "cell_type": "markdown",
   "source": [
    "(probs_test >= 0.1): Создаёт булев массив (True или False), где True — если вероятность ≥ 0.1.\n",
    "\n",
    "У обученной модели можно посмотреть веса (как и в линейной регрессии).\n",
    "Выведем на экран веса модели (model.coef_, model.intercept_)."
   ],
   "id": "789ef33dab3749bb"
  },
  {
   "metadata": {
    "ExecuteTime": {
     "end_time": "2025-04-27T22:28:39.616507Z",
     "start_time": "2025-04-27T22:28:39.612512Z"
    }
   },
   "cell_type": "code",
   "source": "lr.coef_, lr.intercept_",
   "id": "7a6d42300ab1e7b8",
   "outputs": [
    {
     "data": {
      "text/plain": [
       "(array([[-2.65032335e-02, -1.68003951e-01, -8.01332228e-01,\n",
       "         -8.30676970e-02,  1.45240792e-01, -5.76147961e-02,\n",
       "          2.07176929e-05,  2.33261915e-01, -4.24602011e-01,\n",
       "          2.30325933e-01]]),\n",
       " array([-1.21505488]))"
      ]
     },
     "execution_count": 39,
     "metadata": {},
     "output_type": "execute_result"
    }
   ],
   "execution_count": 39
  },
  {
   "metadata": {},
   "cell_type": "markdown",
   "source": [
    "Создайте pd.DataFrame, где в первом столбце стоят названия признаков, а во втором - их веса (так удобнее анализировать результат).\n",
    "Отсортируйте таблицу по убыванию весов.\n",
    "\n",
    "Вопрос\n",
    "Какой признак имеет наибольший положительный вес?"
   ],
   "id": "bf01fd51e611b809"
  },
  {
   "metadata": {
    "ExecuteTime": {
     "end_time": "2025-04-27T22:30:34.297391Z",
     "start_time": "2025-04-27T22:30:34.292682Z"
    }
   },
   "cell_type": "code",
   "source": [
    "# Создаём DataFrame с весами\n",
    "weights_df = pd.DataFrame({\n",
    "    'Feature': Xtrain.columns,  # Названия признаков\n",
    "    'Weight': lr.coef_[0]       # Веса признаков\n",
    "})\n",
    "\n",
    "# Создаём DataFrame для intercept\n",
    "intercept_df = pd.DataFrame({\n",
    "    'Feature': ['intercept'],\n",
    "    'Weight': [lr.intercept_[0]]\n",
    "})\n",
    "\n",
    "# Объединяем с помощью pd.concat\n",
    "weights_df = pd.concat([weights_df, intercept_df], ignore_index=True)\n",
    "\n",
    "# Сортируем по убыванию весов\n",
    "weights_df = weights_df.sort_values(by='Weight', ascending=False)\n",
    "\n",
    "# Выводим таблицу\n",
    "print(weights_df)\n",
    "\n",
    "# Находим признак с наибольшим положительным весом\n",
    "top_feature = weights_df[weights_df['Weight'] > 0]['Feature'].iloc[0]\n",
    "print(\"Признак с наибольшим положительным весом:\", top_feature)"
   ],
   "id": "7e90b165a5eeb020",
   "outputs": [
    {
     "name": "stdout",
     "output_type": "stream",
     "text": [
      "              Feature    Weight\n",
      "7      LOAN_NUM_TOTAL  0.233262\n",
      "9        LOAN_DLQ_NUM  0.230326\n",
      "4         CHILD_TOTAL  0.145241\n",
      "6     PERSONAL_INCOME  0.000021\n",
      "0                 AGE -0.026503\n",
      "5          DEPENDANTS -0.057615\n",
      "3              GENDER -0.083068\n",
      "1   SOCSTATUS_WORK_FL -0.168004\n",
      "8     LOAN_NUM_CLOSED -0.424602\n",
      "2   SOCSTATUS_PENS_FL -0.801332\n",
      "10          intercept -1.215055\n",
      "Признак с наибольшим положительным весом: LOAN_NUM_TOTAL\n"
     ]
    }
   ],
   "execution_count": 40
  },
  {
   "metadata": {},
   "cell_type": "markdown",
   "source": [
    "Бонус\n",
    "Задание 1\n",
    "Подберите порог для перевода вероятностей в классы, дающий максимальное значение f1_score."
   ],
   "id": "e1da9ee4cf6d30df"
  },
  {
   "metadata": {},
   "cell_type": "code",
   "outputs": [],
   "execution_count": null,
   "source": "# ваш код здесь",
   "id": "eaf799fd72552928"
  },
  {
   "metadata": {},
   "cell_type": "markdown",
   "source": [
    "Задание 2\n",
    "Во вложенном цикле подберите одновременно коэффициент регуляризации C у логистической регрессии и порог для перевода вероятностей в классы, дающие максимальное значение f1_score.\n",
    "\n",
    "По-хорошему, чтобы не переобучиться, эти величины надо подбирать не по тесту, а по отдельной выборке.\n",
    "\n",
    "Поэтому разобъем данные изначально на три части: Xtrain, Xval, Xtest.\n",
    "\n",
    "В цикле при подборе С и порога будем обучаться по Xtrain, а предсказывать и измерять качество по Xval.\n",
    "\n",
    "Качество итоговой модели с найденными C и порогом измерьте по Xtest.\n",
    "\n",
    "Так не переобучимся!"
   ],
   "id": "8cfb320e4fac046b"
  },
  {
   "metadata": {},
   "cell_type": "code",
   "outputs": [],
   "execution_count": null,
   "source": [
    "Xtrain_new, Xval, ytrain_new, yval = train_test_split(Xtrain, ytrain, train_size=0.7, random_state=123)\n",
    "\n",
    "# ваш код для подбора C и порога здесь"
   ],
   "id": "6d745cb6e48a8e28"
  },
  {
   "metadata": {},
   "cell_type": "code",
   "outputs": [],
   "execution_count": null,
   "source": [
    "model = LogisticRegression(C = ...)\n",
    "\n",
    "model.fit(Xtrain, ytrain) # обучаемся на всех тренировочных данных\n",
    "\n",
    "prediction = model.predict_proba(Xtest)\n",
    "\n",
    "classes = ... # переведите полученные вероятности в классы по найденному порогу"
   ],
   "id": "e574b995b2e37e6"
  },
  {
   "metadata": {},
   "cell_type": "code",
   "outputs": [],
   "execution_count": null,
   "source": "# вычислите значение f1_score на тестовых данных",
   "id": "778ca0abb9275b47"
  }
 ],
 "metadata": {
  "kernelspec": {
   "display_name": "Python 3",
   "language": "python",
   "name": "python3"
  },
  "language_info": {
   "codemirror_mode": {
    "name": "ipython",
    "version": 2
   },
   "file_extension": ".py",
   "mimetype": "text/x-python",
   "name": "python",
   "nbconvert_exporter": "python",
   "pygments_lexer": "ipython2",
   "version": "2.7.6"
  }
 },
 "nbformat": 4,
 "nbformat_minor": 5
}
